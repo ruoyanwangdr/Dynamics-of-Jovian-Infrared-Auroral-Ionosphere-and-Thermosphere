{
 "cells": [
  {
   "cell_type": "code",
   "execution_count": 1,
   "id": "52d0b2a9",
   "metadata": {},
   "outputs": [],
   "source": [
    "from astropy.io import fits\n",
    "import numpy as np\n",
    "import scipy.ndimage\n",
    "import matplotlib.pyplot as plt\n",
    "import matplotlib.colors as colors\n",
    "from PIL import Image\n",
    "from lmfit import Model\n",
    "\n",
    "import warnings\n",
    "from astropy.utils.exceptions import AstropyWarning\n",
    "warnings.simplefilter('ignore', category=AstropyWarning)\n",
    "\n",
    "import os\n",
    "spec_dir = os.path.abspath('./../../spec/')+'/'\n",
    "figs_dir = os.path.abspath('./../../figures')"
   ]
  },
  {
   "cell_type": "code",
   "execution_count": 6,
   "id": "1b7c627f",
   "metadata": {},
   "outputs": [
    {
     "data": {
      "text/plain": [
       "0.012627931017384313"
      ]
     },
     "execution_count": 6,
     "metadata": {},
     "output_type": "execute_result"
    }
   ],
   "source": [
    "%reload_ext autoreload\n",
    "%autoreload 2\n",
    "import redh3pCopy1 as rhp\n",
    "\n",
    "spec_data = spec_dir+'order36/jun02s*'\n",
    "header_data = spec_dir+'jun02s*'\n",
    "wave_data = spec_dir+'order36/wave*'\n",
    "\n",
    "avg_flat_order36 = rhp.calc_avg(fits_data=spec_data, start=32, stop=41, init=22)\n",
    "avg_dark_order36 = rhp.calc_avg(fits_data=spec_data, start=22, stop=31, init=22)\n",
    "\n",
    "rhp.reduce_spec(\n",
    "    fits_data=spec_data,\n",
    "    fits_header=header_data,\n",
    "    avg_flat=avg_flat_order36,\n",
    "    avg_dark=avg_dark_order36,\n",
    "    data_start=22,\n",
    "    spec_start=60,\n",
    "    spec_stop=103,\n",
    "    skyframe=[51,59,60,72,78,79,91,103],\n",
    ")\n",
    "\n",
    "starspec = rhp.ABBA_subtraction(fits_data=spec_data, \n",
    "                     modeA_set=[104,107,108,111], \n",
    "                     modeB_set=[105,106,109,110], \n",
    "                     data_start=22, \n",
    "                     avg_flat=avg_flat_order36,\n",
    "                     avg_dark=avg_dark_order36,  \n",
    "                     exp_star=20,\n",
    ")\n",
    "\n",
    "rhp.cali_spec(lambda_aw=2.2, T=10000, F_alpha_lyrae=4.07e-10, m_lambda=6.749, wavelength_data=wave_data)\n",
    "\n",
    "\n",
    "rhp.obs_spec(fit_set=[0.003,36,2,0,0,0], star_spec=starspec)[100]"
   ]
  }
 ],
 "metadata": {
  "kernelspec": {
   "display_name": "Python 3 (ipykernel)",
   "language": "python",
   "name": "python3"
  },
  "language_info": {
   "codemirror_mode": {
    "name": "ipython",
    "version": 3
   },
   "file_extension": ".py",
   "mimetype": "text/x-python",
   "name": "python",
   "nbconvert_exporter": "python",
   "pygments_lexer": "ipython3",
   "version": "3.7.13"
  }
 },
 "nbformat": 4,
 "nbformat_minor": 5
}
