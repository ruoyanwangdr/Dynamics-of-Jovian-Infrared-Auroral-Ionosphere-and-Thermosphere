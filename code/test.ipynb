{
 "cells": [
  {
   "cell_type": "code",
   "execution_count": 1,
   "id": "30aacb0c",
   "metadata": {},
   "outputs": [
    {
     "data": {
      "text/plain": [
       "0.0009194715"
      ]
     },
     "execution_count": 1,
     "metadata": {},
     "output_type": "execute_result"
    }
   ],
   "source": [
    "import os\n",
    "import ipynbname\n",
    "import redh3p as rhp\n",
    "import numpy as np\n",
    "%reload_ext autoreload\n",
    "%autoreload 2\n",
    "\n",
    "import warnings\n",
    "from astropy.utils.exceptions import AstropyWarning\n",
    "warnings.simplefilter('ignore', category=AstropyWarning)\n",
    "\n",
    "nb_path = str(ipynbname.path())\n",
    "spec_dir = os.path.join(os.path.abspath(nb_path + '/../../'), 'spec/')\n",
    "\n",
    "fits_path = spec_dir+'order36/new_frame/*.fits'\n",
    "header_path = spec_dir+'jun02s*'\n",
    "\n",
    "order36_data = rhp.read_file(path=fits_path)\n",
    "\n",
    "int0 = 22\n",
    "flat0 = 32\n",
    "flat1 = 41\n",
    "dark0 = 22\n",
    "dark1 = 31\n",
    "\n",
    "avg_flat_order36 = rhp.calc_avg(data=order36_data, start=flat0, stop=flat1, init=int0)\n",
    "avg_dark_order36 = rhp.calc_avg(data=order36_data, start=dark0, stop=dark1, init=int0)\n",
    "\n",
    "spec36_reducelist = []\n",
    "\n",
    "sky_frame = [51,59,60,72,78,79,91,103]\n",
    "\n",
    "for fn in range(60,104):\n",
    "    if fn in sky_frame:\n",
    "        continue\n",
    "    else:\n",
    "        skyframe36 = rhp.scale_sky_frame(data=order36_data, datfn=fn, skyfn=sky_frame, init=int0, path=header_path)\n",
    "        \n",
    "        reduce_spec36 = (order36_data[fn-int0] - skyframe36) / (avg_flat_order36 - avg_dark_order36)\n",
    "        reduce_spec36[reduce_spec36<0] = 0\n",
    "    \n",
    "        spec36_reducelist.append(reduce_spec36)\n",
    "spec36_reduced = np.array(spec36_reducelist)\n",
    "spec36_reduced[17][17][34]"
   ]
  },
  {
   "cell_type": "code",
   "execution_count": 2,
   "id": "dfaf777d",
   "metadata": {},
   "outputs": [
    {
     "data": {
      "text/plain": [
       "array([[ 171.53427  ,   64.47429  , -117.02029  , ...,   93.34951  ,\n",
       "          99.479904 ,   47.509583 ],\n",
       "       [ 168.46274  ,   50.53765  , -129.49846  , ...,   90.03105  ,\n",
       "          97.69978  ,   43.613163 ],\n",
       "       [ 165.58922  ,   39.13488  , -139.34956  , ...,   87.263794 ,\n",
       "          96.135345 ,   40.034264 ],\n",
       "       ...,\n",
       "       [  67.38724  ,  -34.285603 ,  -39.00662  , ..., -117.986595 ,\n",
       "           2.4397988,  136.993    ],\n",
       "       [  70.02979  ,   -8.346096 ,  -25.116451 , ..., -116.82088  ,\n",
       "           6.644969 ,  138.75137  ],\n",
       "       [  71.351074 ,    4.6236544,  -18.17137  , ..., -116.238    ,\n",
       "           8.747555 ,  139.63054  ]], dtype=float32)"
      ]
     },
     "execution_count": 2,
     "metadata": {},
     "output_type": "execute_result"
    }
   ],
   "source": [
    "avg_dark_order36"
   ]
  }
 ],
 "metadata": {
  "kernelspec": {
   "display_name": "Python 3 (ipykernel)",
   "language": "python",
   "name": "python3"
  },
  "language_info": {
   "codemirror_mode": {
    "name": "ipython",
    "version": 3
   },
   "file_extension": ".py",
   "mimetype": "text/x-python",
   "name": "python",
   "nbconvert_exporter": "python",
   "pygments_lexer": "ipython3",
   "version": "3.7.13"
  }
 },
 "nbformat": 4,
 "nbformat_minor": 5
}
