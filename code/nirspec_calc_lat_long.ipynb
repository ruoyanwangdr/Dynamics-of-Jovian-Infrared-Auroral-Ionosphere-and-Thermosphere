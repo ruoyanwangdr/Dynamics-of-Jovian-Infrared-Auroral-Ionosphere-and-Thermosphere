{
 "cells": [
  {
   "cell_type": "code",
   "execution_count": 28,
   "id": "e61b33a1",
   "metadata": {},
   "outputs": [],
   "source": [
    "from astropy.io import fits\n",
    "import numpy as np\n",
    "import scipy as sp\n",
    "import matplotlib.pyplot as plt\n",
    "import matplotlib.colors as colors\n",
    "import pandas as pd\n",
    "\n",
    "def cart2pol(x, y):\n",
    "    rho = np.sqrt(x**2 + y**2)\n",
    "    phi = np.degrees(np.arctan2(y, x))\n",
    "    return(rho, phi)\n",
    "\n",
    "def pol2cart(rho, phi):\n",
    "    x = rho * np.cos(np.radians(phi))\n",
    "    y = rho * np.sin(np.radians(phi))\n",
    "    return(x, y)"
   ]
  },
  {
   "cell_type": "code",
   "execution_count": 29,
   "id": "6c6f9aac",
   "metadata": {},
   "outputs": [],
   "source": [
    "cmlsel = pd.read_csv('cml-sel.txt', sep='\\s+', header=None)\n",
    "jup_cml = cmlsel[3].to_numpy() # needed\n",
    "\n",
    "ang_diam = 40.58867\n",
    "jup_pixel_radius = ang_diam/(0.1)/2\n",
    "\n",
    "jup_seangle=-3.098 # needed\n",
    "jup_posangle=0\n",
    "x = 0\n",
    "\n",
    "flattening = 0.06487\n",
    "losflattening = flattening * (1 - np.sin(np.radians(jup_seangle)))\n",
    "eq_po_ratio = 1 - losflattening\n",
    "\n",
    "y = jup_pixel_radius*eq_po_ratio"
   ]
  },
  {
   "cell_type": "code",
   "execution_count": 17,
   "id": "0bc1c710",
   "metadata": {},
   "outputs": [
    {
     "data": {
      "text/plain": [
       "202.94334999999998"
      ]
     },
     "execution_count": 17,
     "metadata": {},
     "output_type": "execute_result"
    }
   ],
   "source": [
    "jup_pixel_radius"
   ]
  },
  {
   "cell_type": "code",
   "execution_count": 3,
   "id": "af793a7b",
   "metadata": {},
   "outputs": [
    {
     "data": {
      "text/plain": [
       "189.0669296923842"
      ]
     },
     "execution_count": 3,
     "metadata": {},
     "output_type": "execute_result"
    }
   ],
   "source": [
    "y"
   ]
  },
  {
   "cell_type": "code",
   "execution_count": 30,
   "id": "35ff0e9d",
   "metadata": {},
   "outputs": [
    {
     "data": {
      "text/plain": [
       "(array([1.09647505, 1.08365736, 1.08352038, 1.09633044, 1.08994936]),\n",
       " array([3.00722695, 3.01105381, 3.01819185, 3.01457548, 3.01280919]))"
      ]
     },
     "execution_count": 30,
     "metadata": {},
     "output_type": "execute_result"
    }
   ],
   "source": [
    "def nirspec_calc_lat_long(x,y,jup_pixel_radius,jup_seangle,jup_posangle,jup_cml):\n",
    "    \n",
    "    jup_posangle2 = (720-jup_posangle) % 360.\n",
    "    \n",
    "    latit = np.zeros(5)\n",
    "    longit = np.zeros(5)\n",
    "    \n",
    "    ccc = np.zeros(5)\n",
    "    ppp = np.zeros(5)\n",
    "    xxx = np.zeros(5)\n",
    "    yyy = np.zeros(5)\n",
    "    xxx = np.zeros(5)\n",
    "    \n",
    "    R = jup_pixel_radius\n",
    "    \n",
    "    # do a lat and long for each corner of pixel\n",
    "    for corner in range(5):\n",
    "        if corner == 0:\n",
    "            x2 = x + 0.5\n",
    "            y2 = y + 0.5\n",
    "        if corner == 1:\n",
    "            x2 = x + 0.5\n",
    "            y2 = y - 0.5\n",
    "        if corner == 2:\n",
    "            x2 = x - 0.5\n",
    "            y2 = y - 0.5\n",
    "        if corner == 3:\n",
    "            x2 = x - 0.5\n",
    "            y2 = y + 0.5\n",
    "        if corner == 4:\n",
    "            x2 = x\n",
    "            y2 = y\n",
    "            \n",
    "        # rotate the pixels into jovian rotational coordinates\n",
    "        polar = cart2pol(x2,y2)\n",
    "        new_polar = jup_posangle2 + polar[1]\n",
    "        rect2 = pol2cart(polar[0], new_polar)\n",
    "\n",
    "        xx = rect2[0]\n",
    "\n",
    "        # stretch yy to become a sphere\n",
    "        flattening = 0.06487\n",
    "        losflattening = flattening * (1 - np.sin(np.radians(jup_seangle)))\n",
    "        eq_po_ratio = 1 - losflattening\n",
    "\n",
    "        yy = rect2[1] / eq_po_ratio\n",
    "\n",
    "        pp = np.sqrt(xx**2 + yy**2) # proper distance from centre\n",
    "\n",
    "        if pp/R < 0.998:\n",
    "            cc = np.arcsin(pp/R) # angular distance from centre\n",
    "\n",
    "            ccc[corner] = cc\n",
    "            ppp[corner] = pp\n",
    "            xxx[corner] = xx\n",
    "            yyy[corner] = yy\n",
    "\n",
    "            latit[corner] = np.arcsin((np.cos(cc) * np.sin(np.radians(jup_seangle))) + ((yy * np.sin(cc) * np.cos(np.radians(jup_seangle))) / pp))\n",
    "            longit[corner] = np.radians(jup_cml) - np.arctan((xx * np.sin(cc)) / ((pp * np.arccos(np.radians(jup_seangle)) * np.cos(cc)) - (yy * np.sin(np.radians(jup_seangle)) * np.sin(cc))))\n",
    "            \n",
    "    \"\"\"\n",
    "    zzz = where(longit ne 0.,zzzcount)\n",
    "    \"\"\"\n",
    "    \n",
    "    return latit, longit\n",
    "\n",
    "nirspec_calc_lat_long(20,172,jup_pixel_radius,jup_seangle,jup_posangle,jup_cml[20])"
   ]
  },
  {
   "cell_type": "code",
   "execution_count": 46,
   "id": "b6462ea0",
   "metadata": {},
   "outputs": [
    {
     "name": "stderr",
     "output_type": "stream",
     "text": [
      "/opt/anaconda3/lib/python3.7/site-packages/ipykernel_launcher.py:58: RuntimeWarning: invalid value encountered in double_scalars\n",
      "/opt/anaconda3/lib/python3.7/site-packages/ipykernel_launcher.py:59: RuntimeWarning: invalid value encountered in double_scalars\n"
     ]
    }
   ],
   "source": [
    "jup_pixel_radius = 140\n",
    "jup_cml = 0\n",
    "jup_seangle = 0\n",
    "\n",
    "lat = []\n",
    "long = []\n",
    "\n",
    "for j in range(-150,151):\n",
    "    \n",
    "    latarr = np.zeros(301)\n",
    "    longarr = np.zeros(301)\n",
    "    \n",
    "    for i in range(-150,151):\n",
    "        latarr[i+150] = nirspec_calc_lat_long(i,j,jup_pixel_radius,jup_seangle,jup_posangle,jup_cml)[0][4]\n",
    "        longarr[i+150] = nirspec_calc_lat_long(i,j,jup_pixel_radius,jup_seangle,jup_posangle,jup_cml)[1][4]\n",
    "    \n",
    "    lat.append(latarr)\n",
    "    long.append(longarr)\n",
    "\n",
    "lat = np.array(lat)\n",
    "long = np.array(long)"
   ]
  },
  {
   "cell_type": "code",
   "execution_count": 50,
   "id": "f7a927fb",
   "metadata": {},
   "outputs": [
    {
     "data": {
      "text/plain": [
       "<matplotlib.colorbar.Colorbar at 0x126ce2410>"
      ]
     },
     "execution_count": 50,
     "metadata": {},
     "output_type": "execute_result"
    },
    {
     "data": {
      "image/png": "[encoded data removed]",
      "text/plain": [
       "<Figure size 432x288 with 2 Axes>"
      ]
     },
     "metadata": {
      "needs_background": "light"
     },
     "output_type": "display_data"
    }
   ],
   "source": [
    "plt.imshow(np.degrees(lat))\n",
    "plt.colorbar()"
   ]
  },
  {
   "cell_type": "code",
   "execution_count": 48,
   "id": "b36129a6",
   "metadata": {},
   "outputs": [
    {
     "data": {
      "text/plain": [
       "<matplotlib.colorbar.Colorbar at 0x12689b5d0>"
      ]
     },
     "execution_count": 48,
     "metadata": {},
     "output_type": "execute_result"
    },
    {
     "data": {
      "image/png": "[encoded data removed]",
      "text/plain": [
       "<Figure size 432x288 with 2 Axes>"
      ]
     },
     "metadata": {
      "needs_background": "light"
     },
     "output_type": "display_data"
    }
   ],
   "source": [
    "plt.imshow(np.degrees(long))\n",
    "plt.colorbar()"
   ]
  },
  {
   "cell_type": "code",
   "execution_count": 8,
   "id": "31887ff2",
   "metadata": {},
   "outputs": [
    {
     "name": "stderr",
     "output_type": "stream",
     "text": [
      "/opt/anaconda3/lib/python3.7/site-packages/ipykernel_launcher.py:58: RuntimeWarning: invalid value encountered in double_scalars\n",
      "/opt/anaconda3/lib/python3.7/site-packages/ipykernel_launcher.py:59: RuntimeWarning: invalid value encountered in double_scalars\n"
     ]
    }
   ],
   "source": [
    "latt = []\n",
    "longg = []\n",
    "\n",
    "for h in range(len(jup_cml)):\n",
    "\n",
    "    lat = []\n",
    "    long = []\n",
    "\n",
    "    for i in range(-150,151):\n",
    "\n",
    "        latarr = np.zeros(301)\n",
    "        longarr = np.zeros(301)\n",
    "\n",
    "        for j in range(0,301):\n",
    "            latarr[j] = nirspec_calc_lat_long(i,j,jup_pixel_radius,jup_seangle,jup_posangle,jup_cml[h])[0][4]\n",
    "            longarr[j] = nirspec_calc_lat_long(i,j,jup_pixel_radius,jup_seangle,jup_posangle,jup_cml[h])[1][4]\n",
    "\n",
    "        lat.append(latarr)\n",
    "        long.append(longarr)\n",
    "\n",
    "    lat = np.array(lat)\n",
    "    long = np.array(long)\n",
    "    \n",
    "    latt.append(lat)\n",
    "    longg.append(long)\n",
    "    \n",
    "latt = np.array(latt)\n",
    "longg = np.array(longg)"
   ]
  },
  {
   "cell_type": "code",
   "execution_count": 8,
   "id": "2e8ff1f0",
   "metadata": {},
   "outputs": [],
   "source": [
    "latitude = fits.open('latitude.fits', ignore_missing_end=True)[0].data\n",
    "longitude = fits.open('longitude.fits', ignore_missing_end=True)[0].data"
   ]
  },
  {
   "cell_type": "code",
   "execution_count": 10,
   "id": "6e6c17d9",
   "metadata": {},
   "outputs": [
    {
     "data": {
      "text/plain": [
       "(38, 301, 301)"
      ]
     },
     "execution_count": 10,
     "metadata": {},
     "output_type": "execute_result"
    }
   ],
   "source": [
    "latitude.shape"
   ]
  },
  {
   "cell_type": "code",
   "execution_count": 12,
   "id": "882ade64",
   "metadata": {},
   "outputs": [],
   "source": [
    "hdu1 = fits.PrimaryHDU(latt)\n",
    "hdu1.writeto('latitude.fits', overwrite=True)\n",
    "\n",
    "hdu2 = fits.PrimaryHDU(longg)\n",
    "hdu2.writeto('longitude.fits', overwrite=True)"
   ]
  }
 ],
 "metadata": {
  "kernelspec": {
   "display_name": "Python 3 (ipykernel)",
   "language": "python",
   "name": "python3"
  },
  "language_info": {
   "codemirror_mode": {
    "name": "ipython",
    "version": 3
   },
   "file_extension": ".py",
   "mimetype": "text/x-python",
   "name": "python",
   "nbconvert_exporter": "python",
   "pygments_lexer": "ipython3",
   "version": "3.7.11"
  }
 },
 "nbformat": 4,
 "nbformat_minor": 5
}
