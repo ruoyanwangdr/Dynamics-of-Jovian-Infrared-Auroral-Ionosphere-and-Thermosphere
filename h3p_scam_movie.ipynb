{
 "cells": [
  {
   "cell_type": "code",
   "execution_count": 2,
   "metadata": {},
   "outputs": [],
   "source": [
    "# import packages\n",
    "from matplotlib import rcParams\n",
    "rcParams['figure.dpi'] = 120\n",
    "rcParams[\"savefig.dpi\"] = 120\n",
    "rcParams['figure.facecolor'] = 'w'\n",
    "\n",
    "from astropy.io import fits\n",
    "import numpy as np\n",
    "import matplotlib.pyplot as plt\n",
    "import os\n",
    "from lmfit import Model\n",
    "\n",
    "import warnings\n",
    "warnings.filterwarnings('ignore')\n",
    "\n",
    "# path joining version for other paths\n",
    "notebook_path = os.path.abspath('h3p_scam_movie.ipynb.ipynb')\n",
    "filepath = os.path.join(os.path.dirname(notebook_path), '02jun17/scam/')\n",
    "\n",
    "# count number of fits files in folder\n",
    "filesize = len([name for name in os.listdir(filepath) if os.path.isfile(os.path.join(filepath, name))])\n",
    "\n",
    "# load fits data\n",
    "jun02i_scam = []\n",
    "\n",
    "start_jun02i = 1 # fits index start, min >= 1, max <= n\n",
    "end_jun02i = 1904 # fits index end, min >= n, max <= 9999\n",
    "\n",
    "# obtain all scam fits files\n",
    "for i in range(filesize):\n",
    "    if i >= 0 and i < 9:\n",
    "        hdu_data = fits.getdata(filepath + 'jun02i000' + '{}.fits'.format(i+1), ignore_missing_end=True, ext=0)\n",
    "        jun02i_scam.append(hdu_data)\n",
    "    elif i >= 9 and i < 99:\n",
    "        hdu_data = fits.getdata(filepath + 'jun02i00' + '{}.fits'.format(i+1), ignore_missing_end=True, ext=0)\n",
    "        jun02i_scam.append(hdu_data)\n",
    "    elif i >= 99 and i < 999: \n",
    "        hdu_data = fits.getdata(filepath + 'jun02i0' + '{}.fits'.format(i+1), ignore_missing_end=True, ext=0)\n",
    "        jun02i_scam.append(hdu_data)\n",
    "    elif i >= 999:\n",
    "        hdu_data = fits.getdata(filepath + 'jun02i' + '{}.fits'.format(i+1), ignore_missing_end=True, ext=0)\n",
    "        jun02i_scam.append(hdu_data)\n",
    "jun02i_scam_array = np.array(jun02i_scam)"
   ]
  },
  {
   "cell_type": "code",
   "execution_count": 95,
   "metadata": {},
   "outputs": [],
   "source": [
    "# Generate png from fits and save all\n",
    "for i in range(len(jun02i_scam_array)):\n",
    "    if i >= 0 and i < 9:\n",
    "        plt.figure()\n",
    "        plt.imshow(jun02i_scam_array[i], cmap='gist_gray')\n",
    "        plt.gca().invert_yaxis()\n",
    "        plt.title('jun02i000'+'{}.fits'.format(i+1))\n",
    "        plt.savefig('images/jun02i000'+'{}'.format(i+1), bbox_inches='tight')\n",
    "        plt.close()\n",
    "    elif i >= 9 and i < 99:\n",
    "        plt.figure()\n",
    "        plt.imshow(jun02i_scam_array[i], cmap='gist_gray')\n",
    "        plt.gca().invert_yaxis()\n",
    "        plt.title('jun02i00'+'{}.fits'.format(i+1))\n",
    "        plt.savefig('images/jun02i00'+'{}'.format(i+1), bbox_inches='tight')\n",
    "        plt.close()\n",
    "    elif i >= 99 and i < 999:\n",
    "        plt.figure()\n",
    "        plt.imshow(jun02i_scam_array[i], cmap='gist_gray')\n",
    "        plt.gca().invert_yaxis()\n",
    "        plt.title('jun02i0'+'{}.fits'.format(i+1))\n",
    "        plt.savefig('images/jun02i0'+'{}'.format(i+1), bbox_inches='tight')\n",
    "        plt.close()\n",
    "    elif i >= 999:\n",
    "        plt.figure()\n",
    "        plt.imshow(jun02i_scam_array[i], cmap='gist_gray')\n",
    "        plt.gca().invert_yaxis()\n",
    "        plt.title('jun02i'+'{}.fits'.format(i+1))\n",
    "        plt.savefig('images/jun02i'+'{}'.format(i+1), bbox_inches='tight')\n",
    "        plt.close()"
   ]
  },
  {
   "cell_type": "code",
   "execution_count": 97,
   "metadata": {},
   "outputs": [
    {
     "data": {
      "text/plain": [
       "(None, None)"
      ]
     },
     "execution_count": 97,
     "metadata": {},
     "output_type": "execute_result"
    }
   ],
   "source": [
    "# Make video from png\n",
    "import ffmpeg\n",
    "(\n",
    "    ffmpeg\n",
    "    .input(os.path.dirname(notebook_path) + '/images/jupiter/*.png', pattern_type='glob', framerate=20)\n",
    "    .output('images/jun02i.mp4', pix_fmt='rgb24')\n",
    "    .overwrite_output()\n",
    "    .run()\n",
    ")"
   ]
  },
  {
   "cell_type": "code",
   "execution_count": null,
   "metadata": {},
   "outputs": [],
   "source": []
  }
 ],
 "metadata": {
  "kernelspec": {
   "display_name": "Python 3",
   "language": "python",
   "name": "python3"
  },
  "language_info": {
   "codemirror_mode": {
    "name": "ipython",
    "version": 3
   },
   "file_extension": ".py",
   "mimetype": "text/x-python",
   "name": "python",
   "nbconvert_exporter": "python",
   "pygments_lexer": "ipython3",
   "version": "3.7.9"
  }
 },
 "nbformat": 4,
 "nbformat_minor": 4
}
